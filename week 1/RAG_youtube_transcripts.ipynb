{
 "cells": [
  {
   "cell_type": "code",
   "execution_count": 1,
   "id": "cf585b99-ae3e-43b7-9f5f-0a1fb498902f",
   "metadata": {},
   "outputs": [],
   "source": [
    "from openai import OpenAI\n",
    "openai_client = OpenAI()\n",
    "\n",
    "def llm(user_prompt, instructions=None, model ='gpt-4o-mini'):\n",
    "    messages= []\n",
    "    if instructions :\n",
    "        messages.append({\n",
    "            \"role\":\"system\",\n",
    "            \"content\":instructions\n",
    "        })\n",
    "    messages.append({\n",
    "        \"role\":\"user\",\n",
    "        \"content\":user_prompt\n",
    "    })\n",
    "    response = openai_client.responses.create(\n",
    "        model=model,\n",
    "        input=messages\n",
    "    )\n",
    "    return response.output_text\n",
    "        "
   ]
  },
  {
   "cell_type": "code",
   "execution_count": 3,
   "id": "c3cdbc6b-09e0-4fcb-a338-68f0359ab243",
   "metadata": {},
   "outputs": [],
   "source": [
    "from youtube_transcript_api import YouTubeTranscriptApi"
   ]
  },
  {
   "cell_type": "code",
   "execution_count": 5,
   "id": "7ce0b393-28b7-4d96-b99e-35972850f8ae",
   "metadata": {},
   "outputs": [],
   "source": [
    "video_id = 'ph1PxZIkz1o'\n",
    "yt_api=YouTubeTranscriptApi()\n",
    "transcript = yt_api.fetch(video_id)"
   ]
  },
  {
   "cell_type": "code",
   "execution_count": 14,
   "id": "622d8d0d-d786-4f8d-92ca-0fa8fb1c7ffd",
   "metadata": {},
   "outputs": [],
   "source": [
    "import pickle\n",
    "with open (f'{video_id}.bin','rb') as f_in:\n",
    "    transcript = pickle.load(f_in)"
   ]
  },
  {
   "cell_type": "code",
   "execution_count": 15,
   "id": "8a2d287b-9a5b-42c1-887d-4c0a2aef22dd",
   "metadata": {},
   "outputs": [
    {
     "data": {
      "text/plain": [
       "[FetchedTranscriptSnippet(text='So hi everyone. Uh today we are going to', start=0.0, duration=5.04),\n",
       " FetchedTranscriptSnippet(text='talk about our upcoming course. The', start=2.96, duration=3.52),\n",
       " FetchedTranscriptSnippet(text='upcoming course is called machine', start=5.04, duration=5.92),\n",
       " FetchedTranscriptSnippet(text='learning zoom camp. And um this is', start=6.48, duration=5.92),\n",
       " FetchedTranscriptSnippet(text='already I put the link in the', start=10.96, duration=3.599),\n",
       " FetchedTranscriptSnippet(text=\"description. So if you're watching um\", start=12.4, duration=4.719),\n",
       " FetchedTranscriptSnippet(text=\"this video in recording or you're\", start=14.559, duration=4.88),\n",
       " FetchedTranscriptSnippet(text='watching it live, you go here in the', start=17.119, duration=4.561),\n",
       " FetchedTranscriptSnippet(text='description after under this video and', start=19.439, duration=5.6),\n",
       " FetchedTranscriptSnippet(text='then you see a link course. uh click on', start=21.68, duration=6.24)]"
      ]
     },
     "execution_count": 15,
     "metadata": {},
     "output_type": "execute_result"
    }
   ],
   "source": [
    "transcript[:10]"
   ]
  },
  {
   "cell_type": "code",
   "execution_count": 20,
   "id": "29b66779-6bdc-44b6-a962-8c02ec2693e1",
   "metadata": {},
   "outputs": [],
   "source": [
    "def format_timestamp(seconds: float) -> str:\n",
    "    \"\"\"Convert seconds to H:MM:SS if > 1 hour, else M:SS\"\"\"\n",
    "    total_seconds = int(seconds)\n",
    "    hours, remainder = divmod(total_seconds, 3600)\n",
    "    minutes, secs = divmod(remainder, 60)\n",
    "\n",
    "    if hours > 0:\n",
    "        return f\"{hours}:{minutes:02}:{secs:02}\"\n",
    "    else:\n",
    "        return f\"{minutes}:{secs:02}\"\n",
    "def make_subtitles(transcript) :\n",
    "    lines = []\n",
    "    for entry in transcript:\n",
    "        ts=format_timestamp(entry.start)\n",
    "        text=entry.text.replace('\\n',' ')\n",
    "        lines.append(ts+' '+text)\n",
    "    return '\\n'.join(lines)\n",
    "    "
   ]
  },
  {
   "cell_type": "code",
   "execution_count": 22,
   "id": "35e47a80-fbef-4767-840e-c11a349d4497",
   "metadata": {},
   "outputs": [
    {
     "name": "stdout",
     "output_type": "stream",
     "text": [
      "0:00 So hi everyone. Uh today we are going to\n",
      "0:02 talk about our upcoming course. The\n",
      "0:05 upcoming\n"
     ]
    }
   ],
   "source": [
    "subtitles=make_subtitles(transcript)\n",
    "print(subtitles[:100])"
   ]
  },
  {
   "cell_type": "code",
   "execution_count": 23,
   "id": "dbeb0807-b458-47de-886f-0249cd6d92fd",
   "metadata": {},
   "outputs": [],
   "source": [
    "instructions = \"\"\"\n",
    "Summarize the transcript and describe the main purpose of the video\n",
    "and the main ideas. \n",
    "\n",
    "Also output chapters with time. Use usual sentence case, not Title Case for the chapter.\n",
    "\n",
    "Output format: \n",
    "\n",
    "<OUTPUT>\n",
    "Summary\n",
    "\n",
    "timestamp chapter \n",
    "timestamp chapter\n",
    "...\n",
    "timestamp chapter\n",
    "</OUTPUT>\n",
    "\n",
    "Don't include <OUTPUT> in the output\n",
    "\"\"\""
   ]
  },
  {
   "cell_type": "code",
   "execution_count": 24,
   "id": "c089b709-2fd1-44ec-81b8-9f59dacdf48c",
   "metadata": {},
   "outputs": [],
   "source": [
    "answer= llm(subtitles,instructions)"
   ]
  },
  {
   "cell_type": "code",
   "execution_count": 25,
   "id": "5b3fca72-7e32-4c10-99db-da99dd638e4b",
   "metadata": {},
   "outputs": [
    {
     "name": "stdout",
     "output_type": "stream",
     "text": [
      "Summary\n",
      "\n",
      "The video is an introduction to the \"Machine Learning Zoom Camp,\" a course that is set to start on September 15th. The host details the course structure, its purpose, and answers frequently asked questions from potential participants. The aim is to equip learners with practical machine learning skills, emphasizing deployment and ML engineering rather than theoretical data science.\n",
      "\n",
      "Main ideas include:\n",
      "- Course overview and sign-up process\n",
      "- Content updates based on the latest technologies (like switching from TensorFlow to PyTorch)\n",
      "- Focus on practical skills, especially on deployment and engineering aspects of machine learning\n",
      "- No job placement assistance but a strong track record of past participants finding jobs\n",
      "- Prerequisites include basic programming knowledge, with an emphasis on Python and command-line use\n",
      "- The course accommodates various backgrounds, emphasizing that anyone with determination can succeed.\n",
      "\n",
      "timestamp chapter\n",
      "0:00 introduction to the course\n",
      "2:38 course updates and content changes\n",
      "4:54 answering participant questions\n",
      "6:08 computer vision module coverage\n",
      "8:35 prerequisites for the course\n",
      "10:50 programming experience required\n",
      "12:34 target audience: ML engineers vs data scientists\n",
      "14:12 companion resources for the course\n",
      "15:26 coverage of mathematical prerequisites\n",
      "19:21 use of AI tools in the learning process\n",
      "21:30 job readiness and skills acquired\n",
      "22:45 project expectations and certification\n",
      "25:15 weekly time commitment for the course\n",
      "28:12 structure and deadlines in the course\n",
      "36:09 resources for further learning\n",
      "45:01 techniques to maximize learning with AI tools\n",
      "46:00 final thoughts and course start reminder\n"
     ]
    }
   ],
   "source": [
    "print(answer)"
   ]
  },
  {
   "cell_type": "markdown",
   "id": "f49c3aff-2166-4541-824b-ef8d6d0971ab",
   "metadata": {},
   "source": [
    "### structured output with pydantic"
   ]
  },
  {
   "cell_type": "code",
   "execution_count": 26,
   "id": "f4771c68-b53c-41b1-b667-35f0f9bfc1d3",
   "metadata": {},
   "outputs": [],
   "source": [
    "from pydantic import BaseModel\n",
    "class chapter(BaseModel):\n",
    "    timestamp : str\n",
    "    title : str\n",
    "class ytsummaryresponse(BaseModel):\n",
    "    summary : str\n",
    "    chapters : list[chapter]"
   ]
  },
  {
   "cell_type": "code",
   "execution_count": 27,
   "id": "d7aa5fe1-87b3-4d06-a6e3-3a199fd6504e",
   "metadata": {},
   "outputs": [],
   "source": [
    "def llm_structured(instructions, user_prompt, output_type, model=\"gpt-4o-mini\"):\n",
    "    messages = [\n",
    "        {\"role\": \"system\", \"content\": instructions},\n",
    "        {\"role\": \"user\", \"content\": user_prompt}\n",
    "    ]\n",
    "\n",
    "    response = openai_client.responses.parse(\n",
    "        model=model,\n",
    "        input=messages,\n",
    "        text_format=output_type\n",
    "    )\n",
    "\n",
    "    return response.output_parsed"
   ]
  },
  {
   "cell_type": "code",
   "execution_count": 28,
   "id": "1b2e2d40-1bca-4f7b-9f14-9e0f711eb40f",
   "metadata": {},
   "outputs": [],
   "source": [
    "summary = llm_structured(\n",
    "    instructions=instructions,\n",
    "    user_prompt=subtitles,\n",
    "    output_type=ytsummaryresponse\n",
    ")"
   ]
  },
  {
   "cell_type": "code",
   "execution_count": 29,
   "id": "b0d94734-ee9d-4f9e-bcd7-63ea5c20ea6e",
   "metadata": {},
   "outputs": [
    {
     "name": "stdout",
     "output_type": "stream",
     "text": [
      "summary='The video focuses on discussing the upcoming \"Machine Learning Zoom Camp\" course, slated to begin on September 15th. The instructor introduces the course structure, prerequisites, module updates, and addresses participants\\' questions regarding job placement opportunities, depth of content, programming requirements, and deployment processes in machine learning. The course aims to equip learners with essential machine learning engineering skills through practical projects, and while it covers some foundational mathematics, the focus remains on engineering rather than theoretical concepts. Participants also receive guidance on utilizing resources like GitHub Code Spaces and ChatGPT during their learning process. The aim is to prepare students for entry-level machine learning engineer positions, with an emphasis on hands-on learning and project execution.' chapters=[chapter(timestamp='0:00', title='Introduction to machine learning zoom camp'), chapter(timestamp='1:48', title='Course updates and module changes'), chapter(timestamp='2:58', title='Job placement opportunities'), chapter(timestamp='4:11', title='Depth of computer vision and neural networks'), chapter(timestamp='6:08', title='Prerequisites needed for the course'), chapter(timestamp='10:37', title='Using command line and software engineering skills'), chapter(timestamp='12:23', title='Target audience for the course'), chapter(timestamp='13:23', title='Recommended companion book'), chapter(timestamp='17:03', title='Hardware requirements for the course'), chapter(timestamp='18:54', title='Using AI tools for learning'), chapter(timestamp='20:57', title='Paths to explore after completing the course'), chapter(timestamp='24:03', title='Course structure and deadlines'), chapter(timestamp='29:01', title='Projects and submission requirements'), chapter(timestamp='30:35', title='Participant interactions and peer reviews'), chapter(timestamp='33:43', title='Final thoughts and resources')]\n"
     ]
    }
   ],
   "source": [
    "print(summary)"
   ]
  },
  {
   "cell_type": "code",
   "execution_count": 30,
   "id": "4e19523c-5ae3-4a0f-93fd-e3ed6a6841e5",
   "metadata": {},
   "outputs": [
    {
     "name": "stdout",
     "output_type": "stream",
     "text": [
      "The video focuses on discussing the upcoming \"Machine Learning Zoom Camp\" course, slated to begin on September 15th. The instructor introduces the course structure, prerequisites, module updates, and addresses participants' questions regarding job placement opportunities, depth of content, programming requirements, and deployment processes in machine learning. The course aims to equip learners with essential machine learning engineering skills through practical projects, and while it covers some foundational mathematics, the focus remains on engineering rather than theoretical concepts. Participants also receive guidance on utilizing resources like GitHub Code Spaces and ChatGPT during their learning process. The aim is to prepare students for entry-level machine learning engineer positions, with an emphasis on hands-on learning and project execution.\n"
     ]
    }
   ],
   "source": [
    "print(summary.summary)"
   ]
  },
  {
   "cell_type": "code",
   "execution_count": 31,
   "id": "a0595a49-430b-47b3-b17d-d3f139a808a5",
   "metadata": {},
   "outputs": [
    {
     "name": "stdout",
     "output_type": "stream",
     "text": [
      "0:00 Introduction to machine learning zoom camp\n",
      "1:48 Course updates and module changes\n",
      "2:58 Job placement opportunities\n",
      "4:11 Depth of computer vision and neural networks\n",
      "6:08 Prerequisites needed for the course\n",
      "10:37 Using command line and software engineering skills\n",
      "12:23 Target audience for the course\n",
      "13:23 Recommended companion book\n",
      "17:03 Hardware requirements for the course\n",
      "18:54 Using AI tools for learning\n",
      "20:57 Paths to explore after completing the course\n",
      "24:03 Course structure and deadlines\n",
      "29:01 Projects and submission requirements\n",
      "30:35 Participant interactions and peer reviews\n",
      "33:43 Final thoughts and resources\n"
     ]
    }
   ],
   "source": [
    "for c in summary.chapters:\n",
    "    print(c.timestamp,c.title)"
   ]
  },
  {
   "cell_type": "markdown",
   "id": "67fa329f-32cd-4e36-87a5-4d2beab2add2",
   "metadata": {},
   "source": [
    "### chunking youtube transcripts"
   ]
  },
  {
   "cell_type": "code",
   "execution_count": 41,
   "id": "85da84a1-7852-4a30-b990-4edd1ed7493a",
   "metadata": {},
   "outputs": [],
   "source": [
    "## sliding window chunking\n",
    "def join_lines(transcript):\n",
    "    lines=[]\n",
    "    for entry in transcript:\n",
    "        text=entry.text.replace('\\n',' ')\n",
    "        lines.append(text)\n",
    "    return ' '.join(lines)\n",
    "    \n",
    "def format_chunk(chunk):\n",
    "    \"\"\"Format a chunk with start/end timestamps and text.\"\"\"\n",
    "    time_start = format_timestamp(chunk[0].start)\n",
    "    time_end = format_timestamp(chunk[-1].start)\n",
    "    text = join_lines(chunk)\n",
    "\n",
    "    return {\n",
    "        'start': time_start,\n",
    "        'end': time_end,\n",
    "        'text': text\n",
    "    }\n",
    "    \n",
    "    "
   ]
  },
  {
   "cell_type": "code",
   "execution_count": 60,
   "id": "ccd41b32-364d-4f70-a751-6e65ffb94929",
   "metadata": {},
   "outputs": [],
   "source": [
    "#range(start, stop, step)\n",
    "def sliding_window(seq,size,step):\n",
    "    #create overlapping chunk\n",
    "    if size <= 0 or step <= 0:\n",
    "        raise ValueError(\"size and step must be positive\")\n",
    "    n= len(seq)\n",
    "    result=[]\n",
    "    for i in range(0,n,step):\n",
    "        group = seq[i:i+size]\n",
    "        result.append(group)\n",
    "        if i + size >= n :\n",
    "            break\n",
    "    return result"
   ]
  },
  {
   "cell_type": "code",
   "execution_count": 45,
   "id": "d709ae48-7d12-462b-b7c8-3978da3142cf",
   "metadata": {},
   "outputs": [
    {
     "name": "stdout",
     "output_type": "stream",
     "text": [
      "[[0, 1, 2, 3, 4], [2, 3, 4, 5, 6], [4, 5, 6, 7, 8], [6, 7, 8, 9]]\n"
     ]
    }
   ],
   "source": [
    "print(sliding_window(list(range(10)),5,2))"
   ]
  },
  {
   "cell_type": "code",
   "execution_count": 69,
   "id": "1ae41264-91f0-48d6-a6df-d266fa434cfd",
   "metadata": {},
   "outputs": [
    {
     "name": "stdout",
     "output_type": "stream",
     "text": [
      "created 46 chunks\n"
     ]
    }
   ],
   "source": [
    "chunks=[]\n",
    "for chunk in sliding_window(transcript,60,30):\n",
    "    processed=format_chunk(chunk)\n",
    "    chunks.append(processed)\n",
    "print(f\"created {len(chunks)} chunks\")"
   ]
  },
  {
   "cell_type": "code",
   "execution_count": 70,
   "id": "eb471366-0d29-43a3-bdaa-5a81f1b87692",
   "metadata": {},
   "outputs": [
    {
     "name": "stdout",
     "output_type": "stream",
     "text": [
      "[{'start': '0:00', 'end': '2:38', 'text': \"So hi everyone. Uh today we are going to talk about our upcoming course. The upcoming course is called machine learning zoom camp. And um this is already I put the link in the description. So if you're watching um this video in recording or you're watching it live, you go here in the description after under this video and then you see a link course. uh click on that link and this bring you will bring you to this website this GitHub page. This GitHub page is the main entry point to our course and um yeah I think it's more or less self-explanatory. If you want to sign up this is the button you click and the actual course starts in on September 15th. it means that it's uh slightly less than one one month before the course starts and the purpose of today's um session is to just answer your questions. So you have some questions and uh you can ask these questions using uh you can ask your questions using the pinned link. So there's a pinned link in the live chat. Click on that link um and there ask your questions. So yeah, this is how it looks like and I am just going to uh use this thing. So we can also go to SLO and use ML Zoom camp and I'm going to use that for answering questions. Uh one thing though, so before we start, I just wanted to mention that um this course has been running for uh this will be the fifth edition of this course. So we've been doing this course for quite some time. Many people already graduated from this course and um most of the content we use here is the content I uh recorded like four years ago but we are updating the content so cuz u back then everyone was using Python 3.8 eight or nine something like. So yeah, we are re-recording some of the things in particular. Module one, two, three, four will uh stay the same cuz uh this uh these are the fundamentals. They didn't change. But module five we uh will update. Module 6 will stay the same. Module 8 we will update. Module 9 update update. And this we will not include like we only include it once and this thing get outdated very fast. So we just I just didn't bother updating this at all and it's pretty advanced material. So we will update like four out of 10 modules. So that's the plan. Uh and we already had some workshops for\"}, {'start': '1:21', 'end': '3:49', 'text': \"thing. So we can also go to SLO and use ML Zoom camp and I'm going to use that for answering questions. Uh one thing though, so before we start, I just wanted to mention that um this course has been running for uh this will be the fifth edition of this course. So we've been doing this course for quite some time. Many people already graduated from this course and um most of the content we use here is the content I uh recorded like four years ago but we are updating the content so cuz u back then everyone was using Python 3.8 eight or nine something like. So yeah, we are re-recording some of the things in particular. Module one, two, three, four will uh stay the same cuz uh this uh these are the fundamentals. They didn't change. But module five we uh will update. Module 6 will stay the same. Module 8 we will update. Module 9 update update. And this we will not include like we only include it once and this thing get outdated very fast. So we just I just didn't bother updating this at all and it's pretty advanced material. So we will update like four out of 10 modules. So that's the plan. Uh and we already had some workshops for this. Anyways um you have some questions and these questions you use slido for asking these questions and let's get started. Um Alexi question is there a chance of job placement after the program? How deep are we going into computer vision and rock? Okay, so there are three questions actually here. Uh chance of job placement. So we do not provide you job placement. So we are not recruiters. We just teach this uh and we are not a boot camp where you pay money. Right? So this is a free boot camp and our resources are limited. So we cannot really uh do this for you. That said, many of many course participants who took this course in the past successfully found the job. So this is this is going to be the fifth time we are hosting this. So yeah, many many people have graduated from this course and many people found the jobs. So yes, there is a high chance to find a job placement after the program because the teach we the skills we teach here the skills we cover here they are the most important skills for a machine learning engineer. So first we focus on the machine learning part where\"}, {'start': '2:41', 'end': '5:10', 'text': \"this. Anyways um you have some questions and these questions you use slido for asking these questions and let's get started. Um Alexi question is there a chance of job placement after the program? How deep are we going into computer vision and rock? Okay, so there are three questions actually here. Uh chance of job placement. So we do not provide you job placement. So we are not recruiters. We just teach this uh and we are not a boot camp where you pay money. Right? So this is a free boot camp and our resources are limited. So we cannot really uh do this for you. That said, many of many course participants who took this course in the past successfully found the job. So this is this is going to be the fifth time we are hosting this. So yeah, many many people have graduated from this course and many people found the jobs. So yes, there is a high chance to find a job placement after the program because the teach we the skills we teach here the skills we cover here they are the most important skills for a machine learning engineer. So first we focus on the machine learning part where we cover scikitlearn um like simplest model models and then we go deeper on the deployment side. So this is the area where many data scientists um don't know or not they know but like maybe this is their weak areas. So this is we we're going a little deeper in this side. That's why it's more like an engineering program, ML engineering program. And with these skills, usually people don't have any problems finding a job. How deep are we going into computer vision and rack? Okay. So we don't go deep into computer vision. We have one module on deep learning and in this deep learning module we uh do we build an image classifier. So this is a model that can classify different types of clothes into images of of clothes into 10 different categories like pants, like shirts, like t-shirts, stuff like that. So this is as uh deep as we go to computer vision. So that's only one module about that. And we also talk about deploying neural networks. So in the serverless model we talked about how okay you have a model how to deploy it and by the way speaking of the deep learning model uh previously we used tensorflow so we are going to\"}, {'start': '3:52', 'end': '6:24', 'text': \"we cover scikitlearn um like simplest model models and then we go deeper on the deployment side. So this is the area where many data scientists um don't know or not they know but like maybe this is their weak areas. So this is we we're going a little deeper in this side. That's why it's more like an engineering program, ML engineering program. And with these skills, usually people don't have any problems finding a job. How deep are we going into computer vision and rack? Okay. So we don't go deep into computer vision. We have one module on deep learning and in this deep learning module we uh do we build an image classifier. So this is a model that can classify different types of clothes into images of of clothes into 10 different categories like pants, like shirts, like t-shirts, stuff like that. So this is as uh deep as we go to computer vision. So that's only one module about that. And we also talk about deploying neural networks. So in the serverless model we talked about how okay you have a model how to deploy it and by the way speaking of the deep learning model uh previously we used tensorflow so we are going to update this to pytorch so this year you'll have two options you can go with tensorflow you can also go with pytorch um but yeah it will be basics so we will not go deep so this is not a computer vision class this is a machine learning engineering class so we will just have one lesson And we will focus a lot on deployment not on the theory part. We do not cover rack at all. So for rack if you're interested in rack there is another course called LLM Zoom camp. It has almost finished but all the materials are available for self-studying. Um so yeah here's you can check it. So we don't cover a rock in machine learning course but there's another course where we go pretty deep into this maybe not super deep but like we cover a lot of things when it comes to AI engineering. Uh are there any prerequisites to get the most out of the boot camp? Yes, you need to be uh comfortable with programming and with command line. So some basic linear algebra will help but this is not super important. So you we um provide all the\"}, {'start': '5:13', 'end': '7:44', 'text': \"update this to pytorch so this year you'll have two options you can go with tensorflow you can also go with pytorch um but yeah it will be basics so we will not go deep so this is not a computer vision class this is a machine learning engineering class so we will just have one lesson And we will focus a lot on deployment not on the theory part. We do not cover rack at all. So for rack if you're interested in rack there is another course called LLM Zoom camp. It has almost finished but all the materials are available for self-studying. Um so yeah here's you can check it. So we don't cover a rock in machine learning course but there's another course where we go pretty deep into this maybe not super deep but like we cover a lot of things when it comes to AI engineering. Uh are there any prerequisites to get the most out of the boot camp? Yes, you need to be uh comfortable with programming and with command line. So some basic linear algebra will help but this is not super important. So you we um provide all the say refreshment materials here. So we talk about linear algebra and numpy and we illustrate everything with code. So even if you never took linear algeb algebra class uh the concepts we explained here they are there enough. So the main prerequisite is knowing how to program. If you don't know Python, you should be able to uh pick it quickly. And if you know any other programming language like Java, JavaScript, whatever, R, you shouldn't be it shouldn't be difficult for you to pick up Python. And then where's actually our prerequisites? Yeah, here. And then uh starting with uh starting from module number five, we will use command line a lot. And this is um where this experience with prior experience using command line will help. Of course, not everyone has this experience. So you can pick it up too. But expect that uh here when we go from module 4 to module 5. So um if um for you software engineering is something you don't do regularly then it's going to take the model number five is going to take um significantly more time than the first four and this is based on what\"}, {'start': '6:27', 'end': '9:12', 'text': \"say refreshment materials here. So we talk about linear algebra and numpy and we illustrate everything with code. So even if you never took linear algeb algebra class uh the concepts we explained here they are there enough. So the main prerequisite is knowing how to program. If you don't know Python, you should be able to uh pick it quickly. And if you know any other programming language like Java, JavaScript, whatever, R, you shouldn't be it shouldn't be difficult for you to pick up Python. And then where's actually our prerequisites? Yeah, here. And then uh starting with uh starting from module number five, we will use command line a lot. And this is um where this experience with prior experience using command line will help. Of course, not everyone has this experience. So you can pick it up too. But expect that uh here when we go from module 4 to module 5. So um if um for you software engineering is something you don't do regularly then it's going to take the model number five is going to take um significantly more time than the first four and this is based on what the students said uh for them the switch from Jupyter notebook to u creating uh web services was quite difficult. So this is um right now we still have a lot of time. So if you think this is your weak site, maybe check this module now and see what are the things you're lacking you're missing. And also as a um what we did recently was a workshop going to share the link with this workshop where I revised this module number five. So maybe you can just uh check that. Let me see. Um yeah, this one. So I'm going to share it with you right now. uh here and I'll also put this in description for those who are watching this in recording workshop on UV and fast API. So this is a workshop that you can check right now to see um just to evaluate yourself if you feel comfortable with the things that are happening in this workshop. If you don't feel comfortable, you still have time to catch up on some things like using terminal um and so on. And uh I think there's a question CLI is it powershell PowerShell or Linux? So we you in the course we use bash um so it's not powershell. If you are more\"}, {'start': '7:47', 'end': '10:22', 'text': \"the students said uh for them the switch from Jupyter notebook to u creating uh web services was quite difficult. So this is um right now we still have a lot of time. So if you think this is your weak site, maybe check this module now and see what are the things you're lacking you're missing. And also as a um what we did recently was a workshop going to share the link with this workshop where I revised this module number five. So maybe you can just uh check that. Let me see. Um yeah, this one. So I'm going to share it with you right now. uh here and I'll also put this in description for those who are watching this in recording workshop on UV and fast API. So this is a workshop that you can check right now to see um just to evaluate yourself if you feel comfortable with the things that are happening in this workshop. If you don't feel comfortable, you still have time to catch up on some things like using terminal um and so on. And uh I think there's a question CLI is it powershell PowerShell or Linux? So we you in the course we use bash um so it's not powershell. If you are more comfortable using powershell that works too. So the examples should be transferable to powershell but we use bash. So I use I have windows and on these windows I still have bash right. So this is how my terminal looks like. So and the examples um I have I show they are um so most of the time actually we suggest to use code spaces. This is the environment uh that you can get for free from GitHub and then you have a Linux there. You have a Linux with Docker with Python with everything you need. So it's the simplest way to actually get the environment is just get a code spaces um and then you will not need to install anything. So that that are the prerequisites being able to feeling comfortable with programming and with command line and don't forget that this course is an engineering course. This is not a data science course. So we will do a lot of coding. I have not worked with PyTorch and TensorFlow before. Will this be a problem when we start learning new neural networks? No. So for everything we show here, um we don't of course\"}, {'start': '9:15', 'end': '11:37', 'text': \"comfortable using powershell that works too. So the examples should be transferable to powershell but we use bash. So I use I have windows and on these windows I still have bash right. So this is how my terminal looks like. So and the examples um I have I show they are um so most of the time actually we suggest to use code spaces. This is the environment uh that you can get for free from GitHub and then you have a Linux there. You have a Linux with Docker with Python with everything you need. So it's the simplest way to actually get the environment is just get a code spaces um and then you will not need to install anything. So that that are the prerequisites being able to feeling comfortable with programming and with command line and don't forget that this course is an engineering course. This is not a data science course. So we will do a lot of coding. I have not worked with PyTorch and TensorFlow before. Will this be a problem when we start learning new neural networks? No. So for everything we show here, um we don't of course expect you to know this uh prior to the course. So we don't expect you to know any machine learning. Uh we're here to actually teach you machine learning. So you're here to learn machine learning. So that's why we start from like really basic things and then progress to more difficult ones. So you don't need to know any scikitlearn. You will learn psychit learn here. You do not need to learn uh so for example here we teach docker you don't need to have prior experience with docker here we teach uh we talk about virtual environments you don't need to have this experience working with virtual environments. So we all um we teach all these things here but of course if you already worked with Python and know what virtual environments are uh then good for you. So then for you model number five will be like the easiest and same applies with uh deep learning. So if you already used um PyTorch then for you probably the module about deep learning will be easy cuz if you use PyTorch you probably know everything already. So we um this is for people who don't know PyTorch and TensorFlow. Uh is ML zoom camp for people who want\"}, {'start': '10:26', 'end': '12:53', 'text': \"expect you to know this uh prior to the course. So we don't expect you to know any machine learning. Uh we're here to actually teach you machine learning. So you're here to learn machine learning. So that's why we start from like really basic things and then progress to more difficult ones. So you don't need to know any scikitlearn. You will learn psychit learn here. You do not need to learn uh so for example here we teach docker you don't need to have prior experience with docker here we teach uh we talk about virtual environments you don't need to have this experience working with virtual environments. So we all um we teach all these things here but of course if you already worked with Python and know what virtual environments are uh then good for you. So then for you model number five will be like the easiest and same applies with uh deep learning. So if you already used um PyTorch then for you probably the module about deep learning will be easy cuz if you use PyTorch you probably know everything already. So we um this is for people who don't know PyTorch and TensorFlow. Uh is ML zoom camp for people who want to become data scientists or ML engineers? Kind of both but targeted more for ML engineers because we have a lot of uh again let me open it a lot of topics are engineering. So deployment uh serverless kubernetes they are engineering topics. Uh typically data scientists they are exposed to these things to small extent than uh than ML engineers. uh that's why this is ML engineering an ML engineering course and then K surf uh yeah we don't really um cover it here but this is also an engineering topic so I think uh the content is still useful but it's kind of very outdated because these things change very fast and I don't have opportunity to keep it up to date every year but anyways um so we have a lot of engineering topics so I I would say this is more uh g this is more tailored to um those who want to become MEL engineers but data scientists will also um find it useful. Many data scientists said okay yeah like I already knew um like I know module number one 2 4 6 8 this was already like I already knew things but module five uh 9 and 10 were super useful. So for data scientists this information\"}, {'start': '11:40', 'end': '14:19', 'text': \"to become data scientists or ML engineers? Kind of both but targeted more for ML engineers because we have a lot of uh again let me open it a lot of topics are engineering. So deployment uh serverless kubernetes they are engineering topics. Uh typically data scientists they are exposed to these things to small extent than uh than ML engineers. uh that's why this is ML engineering an ML engineering course and then K surf uh yeah we don't really um cover it here but this is also an engineering topic so I think uh the content is still useful but it's kind of very outdated because these things change very fast and I don't have opportunity to keep it up to date every year but anyways um so we have a lot of engineering topics so I I would say this is more uh g this is more tailored to um those who want to become MEL engineers but data scientists will also um find it useful. Many data scientists said okay yeah like I already knew um like I know module number one 2 4 6 8 this was already like I already knew things but module five uh 9 and 10 were super useful. So for data scientists this information is useful and when I was a data scientist for me knowing how to deploy things were quite nice. Is there a recommended companion book for the course? Yes. Uh so actually this course is based on a book I wrote machine learning book amp. So this is the book website. Uh I think I can share it here. Yeah. And then let me put it also here. So this course is based on the book. Uh but the book was written more than 5 years ago or like it was finished around uh maybe half a year before the course or maybe a year before the course was recorded. Um so yeah the some of the some parts of the book are slightly outdated. So this is what I'm going to fix right now um with this course. In this course we are reording some of the materials. So because the book is outdated you will find the examples you have in this course uh before the update. So we still use u flask there. Instead of fast fast API for example we use tensorflow there. Instead of PyTorch, we use Python 3.7 maybe like a relatively old uh Python instead of 3.13 and so on. But um the the course is\"}]\n"
     ]
    }
   ],
   "source": [
    "print(chunks[:10])"
   ]
  },
  {
   "cell_type": "code",
   "execution_count": 71,
   "id": "26f3f9d1-f26c-45ff-abd3-b1c175920562",
   "metadata": {},
   "outputs": [
    {
     "data": {
      "text/plain": [
       "<minsearch.minsearch.Index at 0x7619c1146990>"
      ]
     },
     "execution_count": 71,
     "metadata": {},
     "output_type": "execute_result"
    }
   ],
   "source": [
    "from minsearch import Index\n",
    "index= Index(text_fields=['text'])\n",
    "index.fit(chunks)"
   ]
  },
  {
   "cell_type": "code",
   "execution_count": 73,
   "id": "92ae1003-eba2-4ab5-9277-5a2158fb96e1",
   "metadata": {},
   "outputs": [],
   "source": [
    "result = index.search('can i find job after course?',num_results=2)"
   ]
  },
  {
   "cell_type": "raw",
   "id": "bbe16653-2eae-49db-a1fc-865cece6ec95",
   "metadata": {},
   "source": [
    "print(result)"
   ]
  },
  {
   "cell_type": "code",
   "execution_count": 74,
   "id": "6327fd74-0a8c-488b-a833-4967ec30305d",
   "metadata": {},
   "outputs": [],
   "source": [
    "import json\n",
    "\n",
    "def search(query):\n",
    "    \"\"\"Search for relevant documents.\"\"\"\n",
    "    return index.search(\n",
    "        query=query,\n",
    "        num_results=15\n",
    "    )\n",
    "\n",
    "instructions = \"\"\"\n",
    "Answer the QUESTION based on the CONTEXT from the subtitles of a YouTube video.\n",
    "\n",
    "Use only the facts from the CONTEXT when answering the QUESTION.\n",
    "\n",
    "When answering the question, \n",
    "provide the citation in form of the video URL pointing at the timestamp where\n",
    "this is discussed. If the question is discussed in multiple documents,\n",
    "cite all of them.\n",
    "\n",
    "Don't use markdown or any formatting in the output.\n",
    "\"\"\".strip()\n"
   ]
  },
  {
   "cell_type": "code",
   "execution_count": 75,
   "id": "eae0a728-8302-4030-9eb7-40c9f169638d",
   "metadata": {},
   "outputs": [],
   "source": [
    "prompt_template = \"\"\"\n",
    "<VIDEO_ID>\n",
    "{video_id}\n",
    "</VIDEO_ID>\n",
    "\n",
    "<QUESTION>\n",
    "{question}\n",
    "</QUESTION>\n",
    "\n",
    "<CONTEXT>\n",
    "{context}\n",
    "</CONTEXT>\n",
    "\"\"\".strip()\n",
    "\n",
    "def build_prompt(question, search_results):\n",
    "    context = json.dumps(search_results)\n",
    "    return prompt_template.format(\n",
    "        question=question,\n",
    "        context=context,\n",
    "        video_id=video_id\n",
    "    ).strip()\n",
    "\n",
    "def rag(query):\n",
    "    search_results = search(query)\n",
    "    prompt = build_prompt(query, search_results)\n",
    "    response = llm(prompt, instructions=instructions)\n",
    "    return response"
   ]
  },
  {
   "cell_type": "code",
   "execution_count": 76,
   "id": "06454790-af4e-432d-877b-abccea4b7c00",
   "metadata": {},
   "outputs": [
    {
     "name": "stdout",
     "output_type": "stream",
     "text": [
      "Yes, you can find a job after completing the course. While the course itself does not provide job placement services, many participants from past iterations have successfully found jobs after completing the course. It's important to put in effort during the course and work on projects to build your skills and portfolio, which will enhance your job readiness. Engaging in practical projects, including volunteering, is highly recommended to gain real experience and improve job prospects.\n",
      "\n",
      "For more information, you can refer to the video at the following timestamps: 1:21 - 3:49 and 51:23 - 53:52.\n"
     ]
    }
   ],
   "source": [
    "answer = rag('Can I find a job after the course?')\n",
    "print(answer)"
   ]
  }
 ],
 "metadata": {
  "kernelspec": {
   "display_name": "Python 3 (ipykernel)",
   "language": "python",
   "name": "python3"
  },
  "language_info": {
   "codemirror_mode": {
    "name": "ipython",
    "version": 3
   },
   "file_extension": ".py",
   "mimetype": "text/x-python",
   "name": "python",
   "nbconvert_exporter": "python",
   "pygments_lexer": "ipython3",
   "version": "3.12.1"
  }
 },
 "nbformat": 4,
 "nbformat_minor": 5
}
