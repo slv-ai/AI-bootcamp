{
 "cells": [
  {
   "cell_type": "code",
   "execution_count": 1,
   "id": "3ba6ef35-1f21-4c50-8a63-4fd728bc14cf",
   "metadata": {},
   "outputs": [],
   "source": [
    "from openai import OpenAI\n",
    "openai_client = OpenAI()"
   ]
  },
  {
   "cell_type": "code",
   "execution_count": 2,
   "id": "f0f5bcbf-1117-46a2-bdaa-2affab5e6a69",
   "metadata": {},
   "outputs": [],
   "source": [
    "import requests\n",
    "docs_url = 'https://github.com/alexeygrigorev/llm-rag-workshop/raw/main/notebooks/documents.json'\n",
    "docs_response = requests.get(docs_url)\n",
    "docs_raw= docs_response.json()\n",
    "documents =[]\n",
    "for course in docs_raw:\n",
    "    course_name = course['course']\n",
    "\n",
    "    for docs in course['documents']:\n",
    "        docs['course'] = course_name\n",
    "        documents.append(docs)"
   ]
  },
  {
   "cell_type": "code",
   "execution_count": 3,
   "id": "5873d653-0743-40ea-bfcc-ad7041924531",
   "metadata": {},
   "outputs": [
    {
     "name": "stdout",
     "output_type": "stream",
     "text": [
      "{'text': 'GitHub - DataTalksClub data-engineering-zoomcamp#prerequisites', 'section': 'General course-related questions', 'question': 'Course - What are the prerequisites for this course?', 'course': 'data-engineering-zoomcamp'}\n"
     ]
    }
   ],
   "source": [
    "print(documents[1])"
   ]
  },
  {
   "cell_type": "code",
   "execution_count": 4,
   "id": "c76069f9-1f9f-4c3c-a531-8d10be6ce596",
   "metadata": {},
   "outputs": [
    {
     "data": {
      "text/plain": [
       "<minsearch.append.AppendableIndex at 0x7baa7a2349b0>"
      ]
     },
     "execution_count": 4,
     "metadata": {},
     "output_type": "execute_result"
    }
   ],
   "source": [
    "from minsearch import AppendableIndex\n",
    "index = AppendableIndex(\n",
    "    text_fields = [\"question\",\"text\",\"section\"],\n",
    "    keyword_fields = ['course']\n",
    ")\n",
    "index.fit(documents)\n",
    "    "
   ]
  },
  {
   "cell_type": "code",
   "execution_count": 5,
   "id": "0e5b2c22-7f82-42c9-8bd8-5f40f82c9b6a",
   "metadata": {},
   "outputs": [],
   "source": [
    "def search(query):\n",
    "    boost = {'question' : 3.0,'section': 0.5}\n",
    "\n",
    "    results= index.search(\n",
    "        query = query,\n",
    "        filter_dict = {'course': 'data-engineering-zoomcamp'},\n",
    "        boost_dict = boost,\n",
    "        num_results= 5\n",
    "    )\n",
    "    return results"
   ]
  },
  {
   "cell_type": "code",
   "execution_count": 14,
   "id": "e639d99e-c491-4232-a63f-142ecec30ac2",
   "metadata": {},
   "outputs": [],
   "source": [
    "def make_call(call):\n",
    "    args = json.loads(call.arguments)\n",
    "    f_name = call.name\n",
    "\n",
    "    if f_name == 'search':\n",
    "        result = search(**args)\n",
    "    else:\n",
    "        raise Error(f'unknown function {f_name}')\n",
    "\n",
    "    return {\n",
    "        \"type\": \"function_call_output\",\n",
    "        \"call_id\": call.call_id,\n",
    "        \"output\": json.dumps(result),\n",
    "    }"
   ]
  },
  {
   "cell_type": "code",
   "execution_count": 6,
   "id": "ff9cf2ad-a67e-4f23-b097-4ab597808397",
   "metadata": {},
   "outputs": [],
   "source": [
    "search_tool = {\n",
    "    \"type\": \"function\",\n",
    "    \"name\": \"search\",\n",
    "    \"description\": \"Search the FAQ database\",\n",
    "    \"parameters\": {\n",
    "        \"type\": \"object\",\n",
    "        \"properties\": {\n",
    "            \"query\": {\n",
    "                \"type\": \"string\",\n",
    "                \"description\": \"Search query text to look up in the course FAQ.\"\n",
    "            }\n",
    "        },\n",
    "        \"required\": [\"query\"],\n",
    "        \"additionalProperties\": False\n",
    "    }\n",
    "}        \n",
    "                \n",
    "        "
   ]
  },
  {
   "cell_type": "code",
   "execution_count": 7,
   "id": "afe49c24-c3e7-4dcc-8637-042b238bd032",
   "metadata": {},
   "outputs": [],
   "source": [
    "tools = [search_tool]"
   ]
  },
  {
   "cell_type": "code",
   "execution_count": 8,
   "id": "92d097c8-515b-4a18-9d17-1705bb12554d",
   "metadata": {},
   "outputs": [],
   "source": [
    "instructions = \"\"\"\n",
    "You're a course teaching assistant. \n",
    "You're given a question from a course student and your task is to answer it.\n",
    "If you want to look up the answer, explain why before making the call\n",
    "\"\"\".strip()"
   ]
  },
  {
   "cell_type": "code",
   "execution_count": 9,
   "id": "568ef8ad-80fc-445d-a6a9-9d8c8f69064c",
   "metadata": {},
   "outputs": [],
   "source": [
    "question = 'I just discovered the course. Can I still join it?'\n",
    "\n",
    "chat_messages = [\n",
    "    {\"role\": \"developer\", \"content\": instructions},\n",
    "    {\"role\": \"user\", \"content\": question}\n",
    "]"
   ]
  },
  {
   "cell_type": "code",
   "execution_count": 10,
   "id": "1abb4eb7-0608-4169-ae68-1b3ef92a2b64",
   "metadata": {},
   "outputs": [],
   "source": [
    "#response.output"
   ]
  },
  {
   "cell_type": "code",
   "execution_count": 11,
   "id": "8a6a6f8d-a22c-4f13-ba2e-a30623d4ddc1",
   "metadata": {},
   "outputs": [],
   "source": [
    "#response.output[0]"
   ]
  },
  {
   "cell_type": "code",
   "execution_count": null,
   "id": "da3919ee-5dba-426a-83a3-49ed87e0fd17",
   "metadata": {},
   "outputs": [],
   "source": [
    "while True: # the \"agent\" loop\n",
    "    response = openai_client.responses.create(\n",
    "        model='gpt-4o-mini',\n",
    "        input=chat_messages,\n",
    "        tools=tools\n",
    "    )\n",
    "    \n",
    "    has_function_calls = False\n",
    "    \n",
    "    chat_messages.extend(response.output)\n",
    "    \n",
    "    for item in response.output:\n",
    "        if item.type == 'message':\n",
    "            print('Assistant:')\n",
    "            print(item.content[0].text)\n",
    "            print()\n",
    "    \n",
    "        if item.type == 'function_call':\n",
    "            has_function_calls = True\n",
    "            print('function call')\n",
    "            print('    ', item.name, item.arguments)\n",
    "            print()\n",
    "            \n",
    "            function_call_output = make_call(item)\n",
    "            chat_messages.append(function_call_output)\n",
    "\n",
    "    if not has_function_calls:\n",
    "        break"
   ]
  }
 ],
 "metadata": {
  "kernelspec": {
   "display_name": "Python 3 (ipykernel)",
   "language": "python",
   "name": "python3"
  },
  "language_info": {
   "codemirror_mode": {
    "name": "ipython",
    "version": 3
   },
   "file_extension": ".py",
   "mimetype": "text/x-python",
   "name": "python",
   "nbconvert_exporter": "python",
   "pygments_lexer": "ipython3",
   "version": "3.12.1"
  }
 },
 "nbformat": 4,
 "nbformat_minor": 5
}
