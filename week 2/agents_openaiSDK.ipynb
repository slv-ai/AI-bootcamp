{
 "cells": [
  {
   "cell_type": "code",
   "execution_count": 2,
   "id": "12dc1b36-18ab-4e11-980b-f4d6fab4f48c",
   "metadata": {},
   "outputs": [
    {
     "name": "stdout",
     "output_type": "stream",
     "text": [
      "\u001b[2K\u001b[2mResolved \u001b[1m135 packages\u001b[0m \u001b[2min 2.64s\u001b[0m\u001b[0m                                       \u001b[0m\n",
      "\u001b[2K\u001b[2mPrepared \u001b[1m13 packages\u001b[0m \u001b[2min 168ms\u001b[0m\u001b[0m                                            \n",
      "\u001b[2K░░░░░░░░░░░░░░░░░░░░ [0/13] \u001b[2mInstalling wheels...                                \u001b[0m\u001b[1m\u001b[33mwarning\u001b[39m\u001b[0m\u001b[1m:\u001b[0m \u001b[1mFailed to hardlink files; falling back to full copy. This may lead to degraded performance.\n",
      "         If the cache and target directories are on different filesystems, hardlinking may not be supported.\n",
      "         If this is intentional, set `export UV_LINK_MODE=copy` or use `--link-mode=copy` to suppress this warning.\u001b[0m\n",
      "\u001b[2K\u001b[2mInstalled \u001b[1m13 packages\u001b[0m \u001b[2min 102ms\u001b[0m\u001b[0m                              \u001b[0m\n",
      " \u001b[32m+\u001b[39m \u001b[1mclick\u001b[0m\u001b[2m==8.3.0\u001b[0m\n",
      " \u001b[32m+\u001b[39m \u001b[1mcolorama\u001b[0m\u001b[2m==0.4.6\u001b[0m\n",
      " \u001b[32m+\u001b[39m \u001b[1mgriffe\u001b[0m\u001b[2m==1.14.0\u001b[0m\n",
      " \u001b[32m+\u001b[39m \u001b[1mhttpx-sse\u001b[0m\u001b[2m==0.4.3\u001b[0m\n",
      " \u001b[32m+\u001b[39m \u001b[1mmcp\u001b[0m\u001b[2m==1.18.0\u001b[0m\n",
      " \u001b[32m+\u001b[39m \u001b[1mopenai-agents\u001b[0m\u001b[2m==0.4.1\u001b[0m\n",
      " \u001b[32m+\u001b[39m \u001b[1mpydantic-settings\u001b[0m\u001b[2m==2.11.0\u001b[0m\n",
      " \u001b[32m+\u001b[39m \u001b[1mpython-dotenv\u001b[0m\u001b[2m==1.1.1\u001b[0m\n",
      " \u001b[32m+\u001b[39m \u001b[1mpython-multipart\u001b[0m\u001b[2m==0.0.20\u001b[0m\n",
      " \u001b[32m+\u001b[39m \u001b[1msse-starlette\u001b[0m\u001b[2m==3.0.2\u001b[0m\n",
      " \u001b[32m+\u001b[39m \u001b[1mstarlette\u001b[0m\u001b[2m==0.48.0\u001b[0m\n",
      " \u001b[32m+\u001b[39m \u001b[1mtypes-requests\u001b[0m\u001b[2m==2.32.4.20250913\u001b[0m\n",
      " \u001b[32m+\u001b[39m \u001b[1muvicorn\u001b[0m\u001b[2m==0.38.0\u001b[0m\n"
     ]
    }
   ],
   "source": [
    "!uv add openai-agents"
   ]
  },
  {
   "cell_type": "code",
   "execution_count": 3,
   "id": "b588f583-64e4-4a23-9748-a60ed5a46b87",
   "metadata": {},
   "outputs": [],
   "source": [
    "import agents"
   ]
  },
  {
   "cell_type": "code",
   "execution_count": 4,
   "id": "75942708-2b0e-4647-96f1-05e8054b0813",
   "metadata": {},
   "outputs": [],
   "source": [
    "from agents import Agent,function_tool,Runner"
   ]
  },
  {
   "cell_type": "code",
   "execution_count": 5,
   "id": "8f7c11e0-e835-4bec-8155-6fc1f1884fea",
   "metadata": {},
   "outputs": [],
   "source": [
    "import requests"
   ]
  },
  {
   "cell_type": "code",
   "execution_count": 6,
   "id": "25a2c1f3-53fb-4a46-b7a2-6c0696c5941b",
   "metadata": {},
   "outputs": [],
   "source": [
    "def fetch_url(url):\n",
    "    jina_reader_base_url = 'https://r.jina.ai/'\n",
    "    jina_reader_url = jina_reader_base_url + url\n",
    "    response = requests.get(jina_reader_url)\n",
    "    return response.content.decode('utf-8') \n",
    "    "
   ]
  },
  {
   "cell_type": "code",
   "execution_count": 8,
   "id": "2ae3f093-41bb-4c71-abbf-3182d984eb75",
   "metadata": {},
   "outputs": [],
   "source": [
    "import requests\n",
    "from requests.exceptions import RequestException, HTTPError, Timeout, ConnectionError\n",
    "\n",
    "def fetch_url(url: str) -> str:\n",
    "    \"\"\"\n",
    "    Fetches the content of a URL using the Jina Reader proxy service.\n",
    "\n",
    "    Args:\n",
    "        url (str): The original URL to fetch content from.\n",
    "\n",
    "    Returns:\n",
    "        str: The decoded content of the response.\n",
    "\n",
    "    Raises:\n",
    "        ValueError: If the URL is invalid or the request fails.\n",
    "    \"\"\"\n",
    "    jina_reader_base_url = 'https://r.jina.ai/'\n",
    "    jina_reader_url = jina_reader_base_url + url\n",
    "\n",
    "    try:\n",
    "        response = requests.get(jina_reader_url, timeout=10)\n",
    "        response.raise_for_status()  # Raises HTTPError for bad status codes (4xx or 5xx)\n",
    "        return response.content.decode('utf-8')\n",
    "    except RequestException as e:\n",
    "        # Catch all network-related errors (e.g., ConnectionError, Timeout, HTTPError)\n",
    "        print(f\"Error fetching URL '{jina_reader_url}': {e}\")\n",
    "        return None\n",
    "    except UnicodeDecodeError:\n",
    "        print(f\"Error decoding response from '{jina_reader_url}'.\")\n",
    "        return None  \n"
   ]
  },
  {
   "cell_type": "code",
   "execution_count": 9,
   "id": "4eac7826-1f22-481b-90f9-a42342e37daa",
   "metadata": {},
   "outputs": [],
   "source": [
    "content = fetch_url('https://datatalks.club')"
   ]
  },
  {
   "cell_type": "code",
   "execution_count": 11,
   "id": "4215ce4e-987c-4024-b21b-e545d01a3ad5",
   "metadata": {},
   "outputs": [],
   "source": [
    "web_agent = Agent(\n",
    "    name = 'web-agent',\n",
    "    instructions=\"you're a helful assistnat\",\n",
    "    model='gpt-4o-mini',\n",
    "    tools=[function_tool(fetch_url)]\n",
    ")"
   ]
  },
  {
   "cell_type": "code",
   "execution_count": 12,
   "id": "4fc45153-ffdd-4897-b6d2-e5bf9aad990c",
   "metadata": {},
   "outputs": [],
   "source": [
    "runner = Runner()\n",
    "question = \"what is this page about? https://openai.github.io/openai-agents-python/\""
   ]
  },
  {
   "cell_type": "code",
   "execution_count": 15,
   "id": "d59466e1-49e2-4906-a5ce-7393667e4f08",
   "metadata": {},
   "outputs": [
    {
     "name": "stderr",
     "output_type": "stream",
     "text": [
      "/tmp/ipykernel_10707/3773915482.py:1: RuntimeWarning: coroutine 'Runner.run' was never awaited\n",
      "  result = await runner.run(web_agent, input = question)\n",
      "RuntimeWarning: Enable tracemalloc to get the object allocation traceback\n"
     ]
    }
   ],
   "source": [
    "result = await runner.run(web_agent, input = question)"
   ]
  },
  {
   "cell_type": "code",
   "execution_count": 19,
   "id": "a3be858d-d31e-4edb-92c1-cf14803fb2b5",
   "metadata": {},
   "outputs": [
    {
     "name": "stdout",
     "output_type": "stream",
     "text": [
      "The page you referred to is about the **OpenAI Agents SDK**, which is designed to facilitate the development of agentic AI applications using a straightforward, user-friendly package. Here are the key points:\n",
      "\n",
      "### Overview\n",
      "- The **OpenAI Agents SDK** allows developers to build applications with AI agents that utilize language models (LLMs).\n",
      "- It features primitives like **Agents**, **Handoffs**, **Guardrails**, and **Sessions** to manage and maintain conversation histories and delegate tasks.\n",
      "\n",
      "### Main Features\n",
      "1. **Agent Loop**: Automatically manages interactions and responses between the agent and tools.\n",
      "2. **Python-first**: Leverages Python's built-in capabilities for easy orchestration without needing new abstractions.\n",
      "3. **Handoffs**: Enables agents to delegate specific tasks to other agents.\n",
      "4. **Guardrails**: Provides validation for inputs and outputs to ensure accuracy.\n",
      "5. **Sessions**: Manages conversation history without manual intervention.\n",
      "6. **Function Tools**: Converts Python functions into tools with automatic schema generation.\n",
      "7. **Tracing**: Built-in visualization and debugging tools to monitor agent operations.\n",
      "\n",
      "### Installation\n",
      "The SDK can be installed using a simple pip command:\n",
      "```bash\n",
      "pip install openai-agents\n",
      "```\n",
      "\n",
      "### Example Usage\n",
      "A basic example demonstrates creating an agent to write a haiku about recursion:\n",
      "```python\n",
      "from agents import Agent, Runner\n",
      "\n",
      "agent = Agent(name=\"Assistant\", instructions=\"You are a helpful assistant\")\n",
      "\n",
      "result = Runner.run_sync(agent, \"Write a haiku about recursion in programming.\")\n",
      "print(result.final_output)\n",
      "```\n",
      "\n",
      "### Additional Resources\n",
      "The page includes documentation for installation, quickstart guides, usage examples, and a comprehensive API reference. It aims to be both powerful and accessible for developers looking to create advanced AI applications.\n",
      "\n",
      "For more detailed information, you can explore the full [OpenAI Agents SDK documentation](https://openai.github.io/openai-agents-python/).\n"
     ]
    }
   ],
   "source": [
    "print(result.final_output)"
   ]
  },
  {
   "cell_type": "code",
   "execution_count": 22,
   "id": "d22c95a8-6ff1-4646-a5a3-669161d849b0",
   "metadata": {},
   "outputs": [],
   "source": [
    "items = result.new_items"
   ]
  },
  {
   "cell_type": "code",
   "execution_count": 23,
   "id": "3089829c-6138-4df6-b30a-6a06cf87956c",
   "metadata": {},
   "outputs": [
    {
     "data": {
      "text/plain": [
       "ToolCallItem(agent=Agent(name='web-agent', handoff_description=None, tools=[FunctionTool(name='fetch_url', description='Fetches the content of a URL using the Jina Reader proxy service.', params_json_schema={'properties': {'url': {'description': 'The original URL to fetch content from.', 'title': 'Url', 'type': 'string'}}, 'required': ['url'], 'title': 'fetch_url_args', 'type': 'object', 'additionalProperties': False}, on_invoke_tool=<function function_tool.<locals>._create_function_tool.<locals>._on_invoke_tool at 0x745c7b68c680>, strict_json_schema=True, is_enabled=True, tool_input_guardrails=None, tool_output_guardrails=None)], mcp_servers=[], mcp_config={}, instructions=\"you're a helful assistnat\", prompt=None, handoffs=[], model='gpt-4o-mini', model_settings=ModelSettings(temperature=None, top_p=None, frequency_penalty=None, presence_penalty=None, tool_choice=None, parallel_tool_calls=None, truncation=None, max_tokens=None, reasoning=None, verbosity=None, metadata=None, store=None, include_usage=None, response_include=None, top_logprobs=None, extra_query=None, extra_body=None, extra_headers=None, extra_args=None), input_guardrails=[], output_guardrails=[], output_type=None, hooks=None, tool_use_behavior='run_llm_again', reset_tool_choice=True), raw_item=ResponseFunctionToolCall(arguments='{\"url\":\"https://openai.github.io/openai-agents-python/\"}', call_id='call_l9osn32NF4Cap5YUGpV7lZR1', name='fetch_url', type='function_call', id='fc_0665c6d8cc8182d40068f8ec9ba3d88198a9b90153aa885045', status='completed'), type='tool_call_item')"
      ]
     },
     "execution_count": 23,
     "metadata": {},
     "output_type": "execute_result"
    }
   ],
   "source": [
    "items[0]"
   ]
  },
  {
   "cell_type": "code",
   "execution_count": 24,
   "id": "948730a4-0694-4356-a8c5-627ba8b93009",
   "metadata": {},
   "outputs": [
    {
     "data": {
      "text/plain": [
       "ResponseFunctionToolCall(arguments='{\"url\":\"https://openai.github.io/openai-agents-python/\"}', call_id='call_l9osn32NF4Cap5YUGpV7lZR1', name='fetch_url', type='function_call', id='fc_0665c6d8cc8182d40068f8ec9ba3d88198a9b90153aa885045', status='completed')"
      ]
     },
     "execution_count": 24,
     "metadata": {},
     "output_type": "execute_result"
    }
   ],
   "source": [
    "items[0].raw_item"
   ]
  },
  {
   "cell_type": "code",
   "execution_count": 26,
   "id": "43f959cb-64a0-4826-b763-b698cd4d6343",
   "metadata": {},
   "outputs": [
    {
     "data": {
      "text/plain": [
       "'The page you referred to is about the **OpenAI Agents SDK**, which is designed to facilitate the development of agentic AI applications using a straightforward, user-friendly package. Here are the key points:\\n\\n### Overview\\n- The **OpenAI Agents SDK** allows developers to build applications with AI agents that utilize language models (LLMs).\\n- It features primitives like **Agents**, **Handoffs**, **Guardrails**, and **Sessions** to manage and maintain conversation histories and delegate tasks.\\n\\n### Main Features\\n1. **Agent Loop**: Automatically manages interactions and responses between the agent and tools.\\n2. **Python-first**: Leverages Python\\'s built-in capabilities for easy orchestration without needing new abstractions.\\n3. **Handoffs**: Enables agents to delegate specific tasks to other agents.\\n4. **Guardrails**: Provides validation for inputs and outputs to ensure accuracy.\\n5. **Sessions**: Manages conversation history without manual intervention.\\n6. **Function Tools**: Converts Python functions into tools with automatic schema generation.\\n7. **Tracing**: Built-in visualization and debugging tools to monitor agent operations.\\n\\n### Installation\\nThe SDK can be installed using a simple pip command:\\n```bash\\npip install openai-agents\\n```\\n\\n### Example Usage\\nA basic example demonstrates creating an agent to write a haiku about recursion:\\n```python\\nfrom agents import Agent, Runner\\n\\nagent = Agent(name=\"Assistant\", instructions=\"You are a helpful assistant\")\\n\\nresult = Runner.run_sync(agent, \"Write a haiku about recursion in programming.\")\\nprint(result.final_output)\\n```\\n\\n### Additional Resources\\nThe page includes documentation for installation, quickstart guides, usage examples, and a comprehensive API reference. It aims to be both powerful and accessible for developers looking to create advanced AI applications.\\n\\nFor more detailed information, you can explore the full [OpenAI Agents SDK documentation](https://openai.github.io/openai-agents-python/).'"
      ]
     },
     "execution_count": 26,
     "metadata": {},
     "output_type": "execute_result"
    }
   ],
   "source": [
    "items[-1].raw_item.content[0].text"
   ]
  },
  {
   "cell_type": "code",
   "execution_count": 27,
   "id": "88c13fd6-b772-430a-ab87-528f62544005",
   "metadata": {},
   "outputs": [],
   "source": [
    "from toyaikit.chat import IPythonChatInterface\n",
    "from toyaikit.chat.runners import OpenAIAgentsSDKRunner\n",
    "\n",
    "chat_interface = IPythonChatInterface()\n",
    "\n",
    "runner = OpenAIAgentsSDKRunner(\n",
    "    chat_interface=chat_interface,\n",
    "    agent=web_agent\n",
    ")"
   ]
  },
  {
   "cell_type": "code",
   "execution_count": 28,
   "id": "4f9ede10-3fae-4e8f-b2b7-25706b650e56",
   "metadata": {},
   "outputs": [
    {
     "name": "stdin",
     "output_type": "stream",
     "text": [
      "You: what are openai agents\n"
     ]
    },
    {
     "data": {
      "text/html": [
       "\n",
       "            <div>\n",
       "                <div><b>Assistant:</b></div>\n",
       "                <div><p>OpenAI agents refer to AI systems developed by OpenAI that can autonomously perform tasks, make decisions, or interact with humans in various contexts. These agents leverage advanced language models, like GPT, to understand natural language, respond to queries, generate content, or facilitate conversations.</p>\n",
       "<h3>Key Features of OpenAI Agents:</h3>\n",
       "<ol>\n",
       "<li><p><strong>Natural Language Understanding</strong>: They excel at interpreting and processing human language, making them suitable for a wide range of applications.</p>\n",
       "</li>\n",
       "<li><p><strong>Task Automation</strong>: Agents can automate repetitive tasks, improving efficiency in various sectors like customer service, data entry, and content generation.</p>\n",
       "</li>\n",
       "<li><p><strong>Interactive</strong>: Many agents are designed to engage in dialogue, allowing for dynamic interactions that can be personalized to user needs.</p>\n",
       "</li>\n",
       "<li><p><strong>Learning Capability</strong>: They can learn from user interactions and adapt their responses over time to better serve users' needs.</p>\n",
       "</li>\n",
       "<li><p><strong>Integration</strong>: OpenAI agents can be integrated into applications, websites, and other platforms to enhance functionality and user experience.</p>\n",
       "</li>\n",
       "</ol>\n",
       "<h3>Applications:</h3>\n",
       "<ul>\n",
       "<li><strong>Customer Support</strong>: Providing instant responses and assistance.</li>\n",
       "<li><strong>Content Creation</strong>: Generating articles, reports, and social media posts.</li>\n",
       "<li><strong>Data Analysis</strong>: Interpreting datasets and summarizing findings.</li>\n",
       "<li><strong>Education</strong>: Tutoring students and providing personalized learning experiences.</li>\n",
       "</ul>\n",
       "<p>These agents are part of a broader movement towards creating intelligent systems that can assist humans in various domains.</p>\n",
       "</div>\n",
       "            </div>\n",
       "        "
      ],
      "text/plain": [
       "<IPython.core.display.HTML object>"
      ]
     },
     "metadata": {},
     "output_type": "display_data"
    },
    {
     "name": "stdin",
     "output_type": "stream",
     "text": [
      "You: stop\n"
     ]
    },
    {
     "name": "stdout",
     "output_type": "stream",
     "text": [
      "Chat ended.\n"
     ]
    }
   ],
   "source": [
    "await runner.run()"
   ]
  },
  {
   "cell_type": "code",
   "execution_count": 35,
   "id": "950199b3-5f20-47ed-acce-0045715ad370",
   "metadata": {},
   "outputs": [],
   "source": [
    "from youtube_transcript_api import YouTubeTranscriptApi\n",
    "\n",
    "def format_timestamp(seconds: float) -> str:\n",
    "    \"\"\"Convert seconds to H:MM:SS if > 1 hour, else M:SS\"\"\"\n",
    "    total_seconds = int(seconds)\n",
    "    hours, remainder = divmod(total_seconds, 3600)\n",
    "    minutes, secs = divmod(remainder, 60)\n",
    "\n",
    "    if hours > 0:\n",
    "        return f\"{hours}:{minutes:02}:{secs:02}\"\n",
    "    else:\n",
    "        return f\"{minutes}:{secs:02}\"\n",
    "\n",
    "\n",
    "def make_subtitles(transcript) -> str:\n",
    "    lines = []\n",
    "\n",
    "    for entry in transcript:\n",
    "        ts = format_timestamp(entry.start)\n",
    "        text = entry.text.replace('\\n', ' ')\n",
    "        lines.append(ts + ' ' + text)\n",
    "\n",
    "    return '\\n'.join(lines)\n",
    "    \n",
    "def fetch_transcript_raw(video_id):\n",
    "    ytt_api = YouTubeTranscriptApi()\n",
    "    transcript = ytt_api.fetch(video_id)\n",
    "    return transcript\n",
    "\n",
    "\n",
    "def fetch_transcript_text(video_id):\n",
    "    transcript = fetch_transcript_raw(video_id)\n",
    "    subtitles = make_subtitles(transcript)\n",
    "    return subtitles"
   ]
  },
  {
   "cell_type": "code",
   "execution_count": 39,
   "id": "a3acec77-29c2-4b98-ae1c-bcfb5b661545",
   "metadata": {},
   "outputs": [],
   "source": [
    "from pathlib import Path\n",
    "\n",
    "def fetch_transcript_cached(video_id):\n",
    "    cache_dir = Path(\"../data_cache/youtube_videos\")\n",
    "    print(cache_dir)\n",
    "    cache_file = cache_dir / f\"{video_id}.txt\"\n",
    "\n",
    "    if cache_file.exists():\n",
    "        return cache_file.read_text(encoding=\"utf-8\")\n",
    "\n",
    "    subtitles = fetch_transcript_text(video_id)\n",
    "    cache_file.write_text(subtitles, encoding=\"utf-8\")\n",
    "\n",
    "    return subtitles"
   ]
  },
  {
   "cell_type": "code",
   "execution_count": 40,
   "id": "0d6f4622-03f2-407d-b2bd-c4eb036eb395",
   "metadata": {},
   "outputs": [
    {
     "name": "stdout",
     "output_type": "stream",
     "text": [
      "../data_cache/youtube_videos\n"
     ]
    },
    {
     "ename": "VideoUnavailable",
     "evalue": "\nCould not retrieve a transcript for the video https://www.youtube.com/watch?v=2ZOnA19sDpM.txt! This is most likely caused by:\n\nThe video is no longer available\n\nIf you are sure that the described cause is not responsible for this error and that a transcript should be retrievable, please create an issue at https://github.com/jdepoix/youtube-transcript-api/issues. Please add which version of youtube_transcript_api you are using and provide the information needed to replicate the error. Also make sure that there are no open issues which already describe your problem!",
     "output_type": "error",
     "traceback": [
      "\u001b[31m---------------------------------------------------------------------------\u001b[39m",
      "\u001b[31mVideoUnavailable\u001b[39m                          Traceback (most recent call last)",
      "\u001b[36mCell\u001b[39m\u001b[36m \u001b[39m\u001b[32mIn[40]\u001b[39m\u001b[32m, line 1\u001b[39m\n\u001b[32m----> \u001b[39m\u001b[32m1\u001b[39m subtitles = \u001b[43mfetch_transcript_cached\u001b[49m\u001b[43m(\u001b[49m\u001b[33;43m'\u001b[39;49m\u001b[33;43m2ZOnA19sDpM.txt\u001b[39;49m\u001b[33;43m'\u001b[39;49m\u001b[43m)\u001b[49m\n\u001b[32m      2\u001b[39m \u001b[38;5;28mprint\u001b[39m(subtitles[:\u001b[32m500\u001b[39m])\n",
      "\u001b[36mCell\u001b[39m\u001b[36m \u001b[39m\u001b[32mIn[39]\u001b[39m\u001b[32m, line 11\u001b[39m, in \u001b[36mfetch_transcript_cached\u001b[39m\u001b[34m(video_id)\u001b[39m\n\u001b[32m      8\u001b[39m \u001b[38;5;28;01mif\u001b[39;00m cache_file.exists():\n\u001b[32m      9\u001b[39m     \u001b[38;5;28;01mreturn\u001b[39;00m cache_file.read_text(encoding=\u001b[33m\"\u001b[39m\u001b[33mutf-8\u001b[39m\u001b[33m\"\u001b[39m)\n\u001b[32m---> \u001b[39m\u001b[32m11\u001b[39m subtitles = \u001b[43mfetch_transcript_text\u001b[49m\u001b[43m(\u001b[49m\u001b[43mvideo_id\u001b[49m\u001b[43m)\u001b[49m\n\u001b[32m     12\u001b[39m cache_file.write_text(subtitles, encoding=\u001b[33m\"\u001b[39m\u001b[33mutf-8\u001b[39m\u001b[33m\"\u001b[39m)\n\u001b[32m     14\u001b[39m \u001b[38;5;28;01mreturn\u001b[39;00m subtitles\n",
      "\u001b[36mCell\u001b[39m\u001b[36m \u001b[39m\u001b[32mIn[35]\u001b[39m\u001b[32m, line 32\u001b[39m, in \u001b[36mfetch_transcript_text\u001b[39m\u001b[34m(video_id)\u001b[39m\n\u001b[32m     31\u001b[39m \u001b[38;5;28;01mdef\u001b[39;00m\u001b[38;5;250m \u001b[39m\u001b[34mfetch_transcript_text\u001b[39m(video_id):\n\u001b[32m---> \u001b[39m\u001b[32m32\u001b[39m     transcript = \u001b[43mfetch_transcript_raw\u001b[49m\u001b[43m(\u001b[49m\u001b[43mvideo_id\u001b[49m\u001b[43m)\u001b[49m\n\u001b[32m     33\u001b[39m     subtitles = make_subtitles(transcript)\n\u001b[32m     34\u001b[39m     \u001b[38;5;28;01mreturn\u001b[39;00m subtitles\n",
      "\u001b[36mCell\u001b[39m\u001b[36m \u001b[39m\u001b[32mIn[35]\u001b[39m\u001b[32m, line 27\u001b[39m, in \u001b[36mfetch_transcript_raw\u001b[39m\u001b[34m(video_id)\u001b[39m\n\u001b[32m     25\u001b[39m \u001b[38;5;28;01mdef\u001b[39;00m\u001b[38;5;250m \u001b[39m\u001b[34mfetch_transcript_raw\u001b[39m(video_id):\n\u001b[32m     26\u001b[39m     ytt_api = YouTubeTranscriptApi()\n\u001b[32m---> \u001b[39m\u001b[32m27\u001b[39m     transcript = \u001b[43mytt_api\u001b[49m\u001b[43m.\u001b[49m\u001b[43mfetch\u001b[49m\u001b[43m(\u001b[49m\u001b[43mvideo_id\u001b[49m\u001b[43m)\u001b[49m\n\u001b[32m     28\u001b[39m     \u001b[38;5;28;01mreturn\u001b[39;00m transcript\n",
      "\u001b[36mFile \u001b[39m\u001b[32m/workspaces/AI-bootcamp/.venv/lib/python3.12/site-packages/youtube_transcript_api/_api.py:71\u001b[39m, in \u001b[36mYouTubeTranscriptApi.fetch\u001b[39m\u001b[34m(self, video_id, languages, preserve_formatting)\u001b[39m\n\u001b[32m     51\u001b[39m \u001b[38;5;28;01mdef\u001b[39;00m\u001b[38;5;250m \u001b[39m\u001b[34mfetch\u001b[39m(\n\u001b[32m     52\u001b[39m     \u001b[38;5;28mself\u001b[39m,\n\u001b[32m     53\u001b[39m     video_id: \u001b[38;5;28mstr\u001b[39m,\n\u001b[32m     54\u001b[39m     languages: Iterable[\u001b[38;5;28mstr\u001b[39m] = (\u001b[33m\"\u001b[39m\u001b[33men\u001b[39m\u001b[33m\"\u001b[39m,),\n\u001b[32m     55\u001b[39m     preserve_formatting: \u001b[38;5;28mbool\u001b[39m = \u001b[38;5;28;01mFalse\u001b[39;00m,\n\u001b[32m     56\u001b[39m ) -> FetchedTranscript:\n\u001b[32m     57\u001b[39m \u001b[38;5;250m    \u001b[39m\u001b[33;03m\"\"\"\u001b[39;00m\n\u001b[32m     58\u001b[39m \u001b[33;03m    Retrieves the transcript for a single video. This is just a shortcut for\u001b[39;00m\n\u001b[32m     59\u001b[39m \u001b[33;03m    calling:\u001b[39;00m\n\u001b[32m   (...)\u001b[39m\u001b[32m     68\u001b[39m \u001b[33;03m    :param preserve_formatting: whether to keep select HTML text formatting\u001b[39;00m\n\u001b[32m     69\u001b[39m \u001b[33;03m    \"\"\"\u001b[39;00m\n\u001b[32m     70\u001b[39m     \u001b[38;5;28;01mreturn\u001b[39;00m (\n\u001b[32m---> \u001b[39m\u001b[32m71\u001b[39m         \u001b[38;5;28;43mself\u001b[39;49m\u001b[43m.\u001b[49m\u001b[43mlist\u001b[49m\u001b[43m(\u001b[49m\u001b[43mvideo_id\u001b[49m\u001b[43m)\u001b[49m\n\u001b[32m     72\u001b[39m         .find_transcript(languages)\n\u001b[32m     73\u001b[39m         .fetch(preserve_formatting=preserve_formatting)\n\u001b[32m     74\u001b[39m     )\n",
      "\u001b[36mFile \u001b[39m\u001b[32m/workspaces/AI-bootcamp/.venv/lib/python3.12/site-packages/youtube_transcript_api/_api.py:127\u001b[39m, in \u001b[36mYouTubeTranscriptApi.list\u001b[39m\u001b[34m(self, video_id)\u001b[39m\n\u001b[32m     76\u001b[39m \u001b[38;5;28;01mdef\u001b[39;00m\u001b[38;5;250m \u001b[39m\u001b[34mlist\u001b[39m(\n\u001b[32m     77\u001b[39m     \u001b[38;5;28mself\u001b[39m,\n\u001b[32m     78\u001b[39m     video_id: \u001b[38;5;28mstr\u001b[39m,\n\u001b[32m     79\u001b[39m ) -> TranscriptList:\n\u001b[32m     80\u001b[39m \u001b[38;5;250m    \u001b[39m\u001b[33;03m\"\"\"\u001b[39;00m\n\u001b[32m     81\u001b[39m \u001b[33;03m    Retrieves the list of transcripts which are available for a given video. It\u001b[39;00m\n\u001b[32m     82\u001b[39m \u001b[33;03m    returns a `TranscriptList` object which is iterable and provides methods to\u001b[39;00m\n\u001b[32m   (...)\u001b[39m\u001b[32m    125\u001b[39m \u001b[33;03m        Make sure that this is the actual ID, NOT the full URL to the video!\u001b[39;00m\n\u001b[32m    126\u001b[39m \u001b[33;03m    \"\"\"\u001b[39;00m\n\u001b[32m--> \u001b[39m\u001b[32m127\u001b[39m     \u001b[38;5;28;01mreturn\u001b[39;00m \u001b[38;5;28;43mself\u001b[39;49m\u001b[43m.\u001b[49m\u001b[43m_fetcher\u001b[49m\u001b[43m.\u001b[49m\u001b[43mfetch\u001b[49m\u001b[43m(\u001b[49m\u001b[43mvideo_id\u001b[49m\u001b[43m)\u001b[49m\n",
      "\u001b[36mFile \u001b[39m\u001b[32m/workspaces/AI-bootcamp/.venv/lib/python3.12/site-packages/youtube_transcript_api/_transcripts.py:356\u001b[39m, in \u001b[36mTranscriptListFetcher.fetch\u001b[39m\u001b[34m(self, video_id)\u001b[39m\n\u001b[32m    352\u001b[39m \u001b[38;5;28;01mdef\u001b[39;00m\u001b[38;5;250m \u001b[39m\u001b[34mfetch\u001b[39m(\u001b[38;5;28mself\u001b[39m, video_id: \u001b[38;5;28mstr\u001b[39m) -> TranscriptList:\n\u001b[32m    353\u001b[39m     \u001b[38;5;28;01mreturn\u001b[39;00m TranscriptList.build(\n\u001b[32m    354\u001b[39m         \u001b[38;5;28mself\u001b[39m._http_client,\n\u001b[32m    355\u001b[39m         video_id,\n\u001b[32m--> \u001b[39m\u001b[32m356\u001b[39m         \u001b[38;5;28;43mself\u001b[39;49m\u001b[43m.\u001b[49m\u001b[43m_fetch_captions_json\u001b[49m\u001b[43m(\u001b[49m\u001b[43mvideo_id\u001b[49m\u001b[43m)\u001b[49m,\n\u001b[32m    357\u001b[39m     )\n",
      "\u001b[36mFile \u001b[39m\u001b[32m/workspaces/AI-bootcamp/.venv/lib/python3.12/site-packages/youtube_transcript_api/_transcripts.py:364\u001b[39m, in \u001b[36mTranscriptListFetcher._fetch_captions_json\u001b[39m\u001b[34m(self, video_id, try_number)\u001b[39m\n\u001b[32m    362\u001b[39m     api_key = \u001b[38;5;28mself\u001b[39m._extract_innertube_api_key(html, video_id)\n\u001b[32m    363\u001b[39m     innertube_data = \u001b[38;5;28mself\u001b[39m._fetch_innertube_data(video_id, api_key)\n\u001b[32m--> \u001b[39m\u001b[32m364\u001b[39m     \u001b[38;5;28;01mreturn\u001b[39;00m \u001b[38;5;28;43mself\u001b[39;49m\u001b[43m.\u001b[49m\u001b[43m_extract_captions_json\u001b[49m\u001b[43m(\u001b[49m\u001b[43minnertube_data\u001b[49m\u001b[43m,\u001b[49m\u001b[43m \u001b[49m\u001b[43mvideo_id\u001b[49m\u001b[43m)\u001b[49m\n\u001b[32m    365\u001b[39m \u001b[38;5;28;01mexcept\u001b[39;00m RequestBlocked \u001b[38;5;28;01mas\u001b[39;00m exception:\n\u001b[32m    366\u001b[39m     retries = (\n\u001b[32m    367\u001b[39m         \u001b[32m0\u001b[39m\n\u001b[32m    368\u001b[39m         \u001b[38;5;28;01mif\u001b[39;00m \u001b[38;5;28mself\u001b[39m._proxy_config \u001b[38;5;129;01mis\u001b[39;00m \u001b[38;5;28;01mNone\u001b[39;00m\n\u001b[32m    369\u001b[39m         \u001b[38;5;28;01melse\u001b[39;00m \u001b[38;5;28mself\u001b[39m._proxy_config.retries_when_blocked\n\u001b[32m    370\u001b[39m     )\n",
      "\u001b[36mFile \u001b[39m\u001b[32m/workspaces/AI-bootcamp/.venv/lib/python3.12/site-packages/youtube_transcript_api/_transcripts.py:385\u001b[39m, in \u001b[36mTranscriptListFetcher._extract_captions_json\u001b[39m\u001b[34m(self, innertube_data, video_id)\u001b[39m\n\u001b[32m    384\u001b[39m \u001b[38;5;28;01mdef\u001b[39;00m\u001b[38;5;250m \u001b[39m\u001b[34m_extract_captions_json\u001b[39m(\u001b[38;5;28mself\u001b[39m, innertube_data: Dict, video_id: \u001b[38;5;28mstr\u001b[39m) -> Dict:\n\u001b[32m--> \u001b[39m\u001b[32m385\u001b[39m     \u001b[38;5;28;43mself\u001b[39;49m\u001b[43m.\u001b[49m\u001b[43m_assert_playability\u001b[49m\u001b[43m(\u001b[49m\u001b[43minnertube_data\u001b[49m\u001b[43m.\u001b[49m\u001b[43mget\u001b[49m\u001b[43m(\u001b[49m\u001b[33;43m\"\u001b[39;49m\u001b[33;43mplayabilityStatus\u001b[39;49m\u001b[33;43m\"\u001b[39;49m\u001b[43m)\u001b[49m\u001b[43m,\u001b[49m\u001b[43m \u001b[49m\u001b[43mvideo_id\u001b[49m\u001b[43m)\u001b[49m\n\u001b[32m    387\u001b[39m     captions_json = innertube_data.get(\u001b[33m\"\u001b[39m\u001b[33mcaptions\u001b[39m\u001b[33m\"\u001b[39m, {}).get(\n\u001b[32m    388\u001b[39m         \u001b[33m\"\u001b[39m\u001b[33mplayerCaptionsTracklistRenderer\u001b[39m\u001b[33m\"\u001b[39m\n\u001b[32m    389\u001b[39m     )\n\u001b[32m    390\u001b[39m     \u001b[38;5;28;01mif\u001b[39;00m captions_json \u001b[38;5;129;01mis\u001b[39;00m \u001b[38;5;28;01mNone\u001b[39;00m \u001b[38;5;129;01mor\u001b[39;00m \u001b[33m\"\u001b[39m\u001b[33mcaptionTracks\u001b[39m\u001b[33m\"\u001b[39m \u001b[38;5;129;01mnot\u001b[39;00m \u001b[38;5;129;01min\u001b[39;00m captions_json:\n",
      "\u001b[36mFile \u001b[39m\u001b[32m/workspaces/AI-bootcamp/.venv/lib/python3.12/site-packages/youtube_transcript_api/_transcripts.py:413\u001b[39m, in \u001b[36mTranscriptListFetcher._assert_playability\u001b[39m\u001b[34m(self, playability_status_data, video_id)\u001b[39m\n\u001b[32m    411\u001b[39m     \u001b[38;5;28;01mif\u001b[39;00m video_id.startswith(\u001b[33m\"\u001b[39m\u001b[33mhttp://\u001b[39m\u001b[33m\"\u001b[39m) \u001b[38;5;129;01mor\u001b[39;00m video_id.startswith(\u001b[33m\"\u001b[39m\u001b[33mhttps://\u001b[39m\u001b[33m\"\u001b[39m):\n\u001b[32m    412\u001b[39m         \u001b[38;5;28;01mraise\u001b[39;00m InvalidVideoId(video_id)\n\u001b[32m--> \u001b[39m\u001b[32m413\u001b[39m     \u001b[38;5;28;01mraise\u001b[39;00m VideoUnavailable(video_id)\n\u001b[32m    414\u001b[39m subreasons = (\n\u001b[32m    415\u001b[39m     playability_status_data.get(\u001b[33m\"\u001b[39m\u001b[33merrorScreen\u001b[39m\u001b[33m\"\u001b[39m, {})\n\u001b[32m    416\u001b[39m     .get(\u001b[33m\"\u001b[39m\u001b[33mplayerErrorMessageRenderer\u001b[39m\u001b[33m\"\u001b[39m, {})\n\u001b[32m    417\u001b[39m     .get(\u001b[33m\"\u001b[39m\u001b[33msubreason\u001b[39m\u001b[33m\"\u001b[39m, {})\n\u001b[32m    418\u001b[39m     .get(\u001b[33m\"\u001b[39m\u001b[33mruns\u001b[39m\u001b[33m\"\u001b[39m, [])\n\u001b[32m    419\u001b[39m )\n\u001b[32m    420\u001b[39m \u001b[38;5;28;01mraise\u001b[39;00m VideoUnplayable(\n\u001b[32m    421\u001b[39m     video_id, reason, [run.get(\u001b[33m\"\u001b[39m\u001b[33mtext\u001b[39m\u001b[33m\"\u001b[39m, \u001b[33m\"\u001b[39m\u001b[33m\"\u001b[39m) \u001b[38;5;28;01mfor\u001b[39;00m run \u001b[38;5;129;01min\u001b[39;00m subreasons]\n\u001b[32m    422\u001b[39m )\n",
      "\u001b[31mVideoUnavailable\u001b[39m: \nCould not retrieve a transcript for the video https://www.youtube.com/watch?v=2ZOnA19sDpM.txt! This is most likely caused by:\n\nThe video is no longer available\n\nIf you are sure that the described cause is not responsible for this error and that a transcript should be retrievable, please create an issue at https://github.com/jdepoix/youtube-transcript-api/issues. Please add which version of youtube_transcript_api you are using and provide the information needed to replicate the error. Also make sure that there are no open issues which already describe your problem!"
     ]
    }
   ],
   "source": [
    "subtitles = fetch_transcript_cached('2ZOnA19sDpM.txt')\n",
    "print(subtitles[:500])"
   ]
  },
  {
   "cell_type": "code",
   "execution_count": null,
   "id": "5fc94109-5cc6-49a1-9aaa-aa0845b3024e",
   "metadata": {},
   "outputs": [],
   "source": [
    "/workspaces/AI-bootcamp/data_cache /youtube_videos/2ZOnA19sDpM.txt"
   ]
  },
  {
   "cell_type": "code",
   "execution_count": 42,
   "id": "1f7724c5-e4c0-4e68-8d9d-d3014f188e53",
   "metadata": {},
   "outputs": [
    {
     "name": "stdout",
     "output_type": "stream",
     "text": [
      "../data_cache/youtube_videos\n"
     ]
    }
   ],
   "source": [
    "cache_dir = Path(\"../data_cache/youtube_videos\")\n",
    "print(cache_dir)"
   ]
  },
  {
   "cell_type": "code",
   "execution_count": null,
   "id": "4337dd49-c462-42bb-be04-ae8e80215ff6",
   "metadata": {},
   "outputs": [],
   "source": []
  }
 ],
 "metadata": {
  "kernelspec": {
   "display_name": "Python 3 (ipykernel)",
   "language": "python",
   "name": "python3"
  },
  "language_info": {
   "codemirror_mode": {
    "name": "ipython",
    "version": 3
   },
   "file_extension": ".py",
   "mimetype": "text/x-python",
   "name": "python",
   "nbconvert_exporter": "python",
   "pygments_lexer": "ipython3",
   "version": "3.12.1"
  }
 },
 "nbformat": 4,
 "nbformat_minor": 5
}
